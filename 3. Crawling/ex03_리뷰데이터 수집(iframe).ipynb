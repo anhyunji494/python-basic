{
 "cells": [
  {
   "cell_type": "code",
   "execution_count": 3,
   "metadata": {},
   "outputs": [],
   "source": [
    "# 라이브러리 불러오기\n",
    "import requests as req\n",
    "from bs4 import BeautifulSoup as bs"
   ]
  },
  {
   "cell_type": "code",
   "execution_count": 7,
   "metadata": {},
   "outputs": [
    {
     "data": {
      "text/plain": [
       "<Response [200]>"
      ]
     },
     "execution_count": 7,
     "metadata": {},
     "output_type": "execute_result"
    }
   ],
   "source": [
    "# requests 라이브러리를 활용하여 페이지 정보 받아오기\n",
    "url = \"https://bodyluv.kr/product/%EB%B0%94%EB%94%94%EB%9F%BD-%EB%94%A5%EC%8A%AC%EB%A6%BD-%EC%BF%A8-%EC%9D%B4%EB%B6%88-v2-%EC%95%88%ED%8B%B0%EB%B2%84%EA%B7%B8/437/category/1/display/2/#prdReview\"\n",
    "h = {'User-Agent':'Mozilla/5.0 (Windows NT 10.0; Win64; x64) AppleWebKit/537.36 (KHTML, like Gecko) Chrome/121.0.0.0 Safari/537.36'}\n",
    "res = req.get(url, headers = h)\n",
    "res"
   ]
  },
  {
   "cell_type": "code",
   "execution_count": null,
   "metadata": {},
   "outputs": [],
   "source": [
    "# bs 객체화 \n",
    "soup = bs(res.text, 'lxml')\n",
    "soup"
   ]
  },
  {
   "cell_type": "code",
   "execution_count": 17,
   "metadata": {},
   "outputs": [
    {
     "data": {
      "text/plain": [
       "[]"
      ]
     },
     "execution_count": 17,
     "metadata": {},
     "output_type": "execute_result"
    }
   ],
   "source": [
    "# 첫번째 리뷰 추출 \n",
    "soup.select('div.review_list_v2__review_lcontent')\n",
    "# 리뷰 데이터 접근 불가능\n",
    "# 왜? iframe 형태의 출력 "
   ]
  },
  {
   "cell_type": "markdown",
   "metadata": {},
   "source": [
    "### iframe \n",
    "- 현재 화면에서는 존재하지만 실제 데이터는 다른 공간에 존재하는 경우 \n",
    "- iframe 태그 : 기존 페이지 내에 새로운 페이지를 삽입하는 태그 \n",
    "- 우리가 보고 있는 페이지 외에 다른 주소에 데이터가 저장! "
   ]
  },
  {
   "cell_type": "code",
   "execution_count": 38,
   "metadata": {},
   "outputs": [],
   "source": [
    "url = 'https://review4.cre.ma/bodyluv.kr/products/reviews?product_code=437&iframe_id=crema-product-reviews-2&widget_style=&app=0&parent_url=https%3A%2F%2Fbodyluv.kr%2Fproduct%2F%25EB%25B0%2594%25EB%2594%2594%25EB%259F%25BD-%25EB%2594%25A5%25EC%258A%25AC%25EB%25A6%25BD-%25EC%25BF%25A8-%25EC%259D%25B4%25EB%25B6%2588-v2-%25EC%2595%2588%25ED%258B%25B0%25EB%25B2%2584%25EA%25B7%25B8%2F437%2Fcategory%2F1%2Fdisplay%2F2%2F%23prdReview&nonmember_token=&secure_device_token=V2df909ac1ed514b1f15ec9f430c40650ba770a14e8c7faa50434af9483fab9af253b8759ad8e2c006437f896a03b5cff7&iframe=1'\n",
    "res = req.get(url)\n",
    "soup = bs(res.text, 'lxml')"
   ]
  },
  {
   "cell_type": "code",
   "execution_count": 63,
   "metadata": {},
   "outputs": [
    {
     "name": "stdout",
     "output_type": "stream",
     "text": [
      "\n",
      "                    아이들 여름 이불을 바꾸려고 겅색중 알게되어 구입했는데 신랑이 탐을 내어 하나더 구입 했네요. 촉감도 양면으로 부트러운면콰 시윈한 냉감이 있어 좋네요. 여름 이불로 적극 추천입니다(2020-08-07 14:26:40 에 등록된 네이버 페이 구매평)\n",
      "                  \n",
      "\n",
      "                    주말부부라 신랑이 원룸에서 사용중인데너무 좋다고아들것도 주문해주라고 난리랍니다..평소 불면증을 호소하며..힘들어했는데요즘은 그런 불평이 사라졌어요^^\n",
      "                  \n",
      "\n",
      "                    신랑이 피부가 예민해서 피부과 약을 장기적으로 복용즁이에요  다른 이불은 피부가 긁혀 힘들어 했는데 바디럽 쓰고는 신세계라고 해여~ 감사해용! 제품 굿 세상 시원합니다!!\n",
      "                  \n",
      "\n",
      "                    아이보리했구요 너무 화이트 아니라서 좋아요 아늑한 느낌이구요 배게커버도 양면이 달라서 좋고 특히 매트는 시원해요 요즘 잠을 제대로 못자는데 이거 깔고 잘잤어요 추천 네이버에 사진리뷰 처음올림 알려드리고싶어서(2022-06-25 13:05:51 에 등록된 네이버 페이 구매평)\n",
      "                  \n",
      "\n",
      "                    아이보리 싱글이 품절이라 기다렸다가 드디어 받았어요!!왜 진작 안샀을까 싶을만큼 매트와 이불 만족도 넘 높아요.이불 너무 부드럽고 가벼워요.매트는 방수가 되서 물을 쏟아도 걱정없구요, 땀 흘려도 몸에 붙지 않아 좋아요.마약 베개도 구매하러 갑니다ㅎㅎ\n",
      "                  \n",
      "아이들 여름 이불을 바꾸려고 겅색중 알게되어 구입했는데 신랑이 탐을 내어 하나더 구입 했네요. 촉감도 양면으로 부트러운면콰 시윈한 냉감이 있어 좋네요. 여름 이불로 적극 추천입니다(2020-08-07 14:26:40 에 등록된 네이버 페이 구매평)\n",
      "\n",
      "주말부부라 신랑이 원룸에서 사용중인데너무 좋다고아들것도 주문해주라고 난리랍니다..평소 불면증을 호소하며..힘들어했는데요즘은 그런 불평이 사라졌어요^^\n",
      "\n",
      "신랑이 피부가 예민해서 피부과 약을 장기적으로 복용즁이에요  다른 이불은 피부가 긁혀 힘들어 했는데 바디럽 쓰고는 신세계라고 해여~ 감사해용! 제품 굿 세상 시원합니다!!\n",
      "\n",
      "아이보리했구요 너무 화이트 아니라서 좋아요 아늑한 느낌이구요 배게커버도 양면이 달라서 좋고 특히 매트는 시원해요 요즘 잠을 제대로 못자는데 이거 깔고 잘잤어요 추천 네이버에 사진리뷰 처음올림 알려드리고싶어서(2022-06-25 13:05:51 에 등록된 네이버 페이 구매평)\n",
      "\n",
      "아이보리 싱글이 품절이라 기다렸다가 드디어 받았어요!!왜 진작 안샀을까 싶을만큼 매트와 이불 만족도 넘 높아요.이불 너무 부드럽고 가벼워요.매트는 방수가 되서 물을 쏟아도 걱정없구요, 땀 흘려도 몸에 붙지 않아 좋아요.마약 베개도 구매하러 갑니다ㅎㅎ\n",
      "\n"
     ]
    }
   ],
   "source": [
    "# 첫번째 페이지의 리뷰데이터 수집 (콘텐츠만 추출)\n",
    "review = soup.select('div.review_list_v2__message.js-collapsed-review-content.js-translate-text')\n",
    "for i in review : \n",
    "    print(i.text)\n",
    "# strip() : 파이썬에서 불필요한 특수문자를 제거 \n",
    "for i in review : \n",
    "    print(i.text.strip())\n",
    "    print()"
   ]
  },
  {
   "cell_type": "markdown",
   "metadata": {},
   "source": [
    "### 1페이지부터 5페이지까지 리뷰 수집하기"
   ]
  },
  {
   "cell_type": "code",
   "execution_count": null,
   "metadata": {},
   "outputs": [],
   "source": [
    "# 페이지가 변경 될 때마다 다시 페이지 정보를 받아와야한다 \n",
    "# https://review4.cre.ma/bodyluv.kr/products/reviews?app=0&iframe=1&iframe_id=crema-product-reviews-2&parent_url=https%3A%2F%2Fbodyluv.kr%2Fproduct%2F%25EB%25B0%2594%25EB%2594%2594%25EB%259F%25BD-%25EB%2594%25A5%25EC%258A%25AC%25EB%25A6%25BD-%25EC%25BF%25A8-%25EC%259D%25B4%25EB%25B6%2588-v2-%25EC%2595%2588%25ED%258B%25B0%25EB%25B2%2584%25EA%25B7%25B8%2F437%2Fcategory%2F1%2Fdisplay%2F2%2F%23prdReview&product_code=437&secure_device_token=V247b90825dc8398dabd274fc09474d721d0230c875723bb950a30251212cb74d9abfe3a051a2671fba19bfdab30d98628&widget_env=100&widget_style=\n",
    "\n",
    "# https://review4.cre.ma/bodyluv.kr/products/reviews?app=0&iframe=1&iframe_id=crema-product-reviews-2&page=2&parent_url=https%3A%2F%2Fbodyluv.kr%2Fproduct%2F%25EB%25B0%2594%25EB%2594%2594%25EB%259F%25BD-%25EB%2594%25A5%25EC%258A%25AC%25EB%25A6%25BD-%25EC%25BF%25A8-%25EC%259D%25B4%25EB%25B6%2588-v2-%25EC%2595%2588%25ED%258B%25B0%25EB%25B2%2584%25EA%25B7%25B8%2F437%2Fcategory%2F1%2Fdisplay%2F2%2F%23prdReview&product_code=437&secure_device_token=V2df909ac1ed514b1f15ec9f430c40650ba770a14e8c7faa50434af9483fab9af253b8759ad8e2c006437f896a03b5cff7&sort=10&widget_env=100&widget_style=\n",
    "\n",
    "# https://review4.cre.ma/bodyluv.kr/products/reviews?app=0&iframe=1&iframe_id=crema-product-reviews-2&page=3&parent_url=https%3A%2F%2Fbodyluv.kr%2Fproduct%2F%25EB%25B0%2594%25EB%2594%2594%25EB%259F%25BD-%25EB%2594%25A5%25EC%258A%25AC%25EB%25A6%25BD-%25EC%25BF%25A8-%25EC%259D%25B4%25EB%25B6%2588-v2-%25EC%2595%2588%25ED%258B%25B0%25EB%25B2%2584%25EA%25B7%25B8%2F437%2Fcategory%2F1%2Fdisplay%2F2%2F%3Fpage_6%3D3%23use_qna&product_code=437&secure_device_token=V25eb3295922cfd6dc5e25fa413a16b6cb8821df4ea8b7c06580cc49726cde875e7b21e4b45312dcd8f226d5f80d0ba0ee&widget_env=100&widget_style=\n",
    "# page 가 바뀜에 따라 숫자가 변경되는 것을 확인"
   ]
  },
  {
   "cell_type": "code",
   "execution_count": 13,
   "metadata": {},
   "outputs": [
    {
     "name": "stdout",
     "output_type": "stream",
     "text": [
      "[1페이지]\n",
      "아이들 여름 이불을 바꾸려고 겅색중 알게되어 구입했는데 신랑이 탐을 내어 하나더 구입 했네요. 촉감도 양면으로 부트러운면콰 시윈한 냉감이 있어 좋네요. 여름 이불로 적극 추천입니다(2020-08-07 14:26:40 에 등록된 네이버 페이 구매평)\n",
      "\n",
      "주말부부라 신랑이 원룸에서 사용중인데너무 좋다고아들것도 주문해주라고 난리랍니다..평소 불면증을 호소하며..힘들어했는데요즘은 그런 불평이 사라졌어요^^\n",
      "\n",
      "신랑이 피부가 예민해서 피부과 약을 장기적으로 복용즁이에요  다른 이불은 피부가 긁혀 힘들어 했는데 바디럽 쓰고는 신세계라고 해여~ 감사해용! 제품 굿 세상 시원합니다!!\n",
      "\n",
      "아이보리했구요 너무 화이트 아니라서 좋아요 아늑한 느낌이구요 배게커버도 양면이 달라서 좋고 특히 매트는 시원해요 요즘 잠을 제대로 못자는데 이거 깔고 잘잤어요 추천 네이버에 사진리뷰 처음올림 알려드리고싶어서(2022-06-25 13:05:51 에 등록된 네이버 페이 구매평)\n",
      "\n",
      "아이보리 싱글이 품절이라 기다렸다가 드디어 받았어요!!왜 진작 안샀을까 싶을만큼 매트와 이불 만족도 넘 높아요.이불 너무 부드럽고 가벼워요.매트는 방수가 되서 물을 쏟아도 걱정없구요, 땀 흘려도 몸에 붙지 않아 좋아요.마약 베개도 구매하러 갑니다ㅎㅎ\n",
      "\n",
      "[2페이지]\n",
      "배송 빨라서 바로 받았어요새탁하고 처음 깔아보았어요촉감이 정말 부드럽고 차가운 느낌이 있어서 첫느낌만으로도 매트리스와 가족들 이불도 고민되네요. ^^\n",
      "\n",
      "양쪽을 다르천으로 만드신거 대박~ 내가좋아하는 느낌쪽을 베고 자면 굿~~(2021-07-03 01:14:04 에 등록된 네이버 페이 구매평)\n",
      "\n",
      "아이가땀이많은아이인데우선누웠을때너무시원하다고좋아하고,촉감이부드러워서너무좋아해요가벼우면서도 선풍기바람에쉽게날리지않아서배가아플일도없어서좋네요\n",
      "\n",
      "부드럽게 감기는 이불 시원한 느낌의 매트괜찮은거 같내요\n",
      "\n",
      "바디럽에서 맨처음마약 토퍼, 쿨이불, 샤워기 등등 이렇게 구매해서 잘 사용하고 있었는데이번 여름 너무 더워 견딜 수 없어쿨 패드도 구매해봤어요!!기존에 쿨이불이 그레이 색이라 쿨그레이로 구매했구요색상은 쏘쿨그레이네여?!ㅎㅎ재질는 쿨이불 소재랑 비슷한데 내부 재질이 메쉬소재 맞나여 그 왜 구멍송송 모양에 바람 슝슝 통하는!?그런 느낌이라 그런지 쿨링이 더 잘 유지 되는것 같아요기존 쿨이불은 보풀도 심하고 처음에만 쿨링이 좋고 (제가 열이많아서) 조금 있으면 이불이  제 열을 흡수 하느라 뜨거워지더라구여 ㅋㅋㅋㅋ근데 쿨 패드는 그런거 없이 열을 갖고 있지 않고송송 너무 시원해요🤍이번 여름 너무 덥고 해서 아빠도 세트로 선물해드릴거에요.+🔥🔥🔥🔥🔥아 그리고 한 가지 아쉬운게 있다면킹 사이즈도 나왔으면 좋겠어요ㅠㅠㅠ🔥🔥🔥🔥🔥\n",
      "\n",
      "[3페이지]\n",
      "쿨그레이 색상도 시원하고 피부에 닿는 느낌이 진짜 서늘~하니 좋으네요 딸램방에 두려고ss샀는데 제방에 두고 ㅎ 퀸사이즈 침대다 놓으니 똭~^^ 가로로 발 좀 내놓고 덮으면 둘이 써도 되네요 이불 싫어하는 옆시기도 저건 배에 놓고 좋아합니당 ^^비산게 걸리지만 같은사이즈로 하나 더 구입해야것어요(2020-08-09 11:41:00 에 등록된 네이버 페이 구매평)\n",
      "\n",
      "최애 이불이에요. 가족들이 이 이불만 찾네요(2021-07-03 19:18:00 에 등록된 네이버 페이 구매평)\n",
      "\n",
      "와 인스타 리뷰 보고삿는데 긴가민가 매트이불 갈끔한거 사자 싶어서 삿는데시원하네요.... 이불이랑 매트사이에 손넣으면 시원~ 굿굿 감사합니다\n",
      "\n",
      "참 신기하네요.한쪽은 시원하고 한쪽은 부드럽고, 아이가 땀을너무많이흘려서 구매했는데.. 이불너무좋아해서 만족합니다.양면이 달라서 4계절 모두 사용할수있을듯해여(2022-08-08 16:47:45 에 등록된 네이버 페이 구매평)\n",
      "\n",
      "아이들이 더워해서 이불을 바꿔주고 싶은데 마땅한 이불을 찾다가 바디럽 사이트에 들어오게 됐어요. 작은 아이가 땀이 많긴 한데 땀이 식으면서 추위도 타서 양면이 다른 이 이불이 맘에 들어서 구입했는데 역시 좋네요^^ 다른 상품에도 관심이 갑니다.이불 색깔이 어떨지 고민을 많이 해서 두 색깔로 구매했습니다.\n",
      "\n",
      "[4페이지]\n",
      "설마설마 했는데 진짜 시원해요~강추입니다👍\n",
      "\n",
      "보들보들하고 느낌너무좋아요쿨링느낌은 조금약하지만 잠은잘오네요\n",
      "\n",
      "한면은 확실히 시원하네요. 아이들 주려고 2개구입~ㅋ 아이들이 여름에도 폭신하고 보들보들 이불을 좋아해서 고민하다 샀는데 사길 잘했어요. 더워도 이불은 꼭 말고 자는 아들~ 땀을 한바가지 흘려서 이불 걷어 주느라 힘든데요건 덜 흘려서 안심!!촉감이 확실히 부들부들 시원해요~ㅋ(2022-07-02 08:21:08 에 등록된 네이버 페이 구매평)\n",
      "\n",
      "제가 직장이 외지에 있고 호텔인데 회장님이 아시는 분이라 저에게 방을 하나 주셨는데 이불이 너무 무겁고 힘들어서 더위도 많이 타서 쿨이불 구매했는데 첨에 4계절 용이라고 봐서 구매했는데 보는 순간 잘 못구매 한줄 알았는데 여름에는 시원하고 겨울에는 따뜻하게 몸에 무리 안가게 딱 좋네요~~\n",
      "\n",
      "이불이 진짜 시원할까..? 반신반의하면서 주문했는데 진짜 시원해요! 촉감도 너무 좋고 완전 만족하면서 사용하고있습니다!(2020-08-17 13:33:11 에 등록된 네이버 페이 구매평)\n",
      "\n",
      "[5페이지]\n",
      "쿨매트는 앞서 리뷰를 했기에 생략합니다:)첫번째 사진은 포장상태입니다! 젤 왼쪽이 박스고 그 안에 천가방, 그 안에 지퍼백에 잘 포장되어오네요!두번째랑 세번째는 쿨이불 앞,뒤 단면이에요!두면 다 전 시원해서 만족인데~ 박스나 천가방 한면에 작게나마 날씨에 따라 앞면(앞면은 이런 상태), 뒤면(상태설명) 나눠서 설명이 있음 더 좋겠네요! 날씨에 따라 맞는면으로 사용하라는말만 있는게 굳이 뽑는 아쉬움입니다! 다른건 시원하고 대만족이네요:)\n",
      "\n",
      "울엄마 갱년기에 선풍기 틀면 춥다 소름돋는다 끄면 식은땀 줄줄에 덥다 에어컨틀어라 무한반복하다가 웜마약이불을 엄마가 너무 좋아해서 마약이불 여름꺼도 있네? 한마디 했다가 지금 당장 가족별로 다 주문해라 하셔서 4개주문했는데 택배가 1개씩 따로따로 와서 뭐지ㅋㅋ그러고있다가 택배 열고 넷다 이불을 뒤집어 쓰고나선 하....이거 물건이네 넘 시원하고 조타...일 안가고 집에만 있고싶다..울 강쥐도 넘 좋아하고 저는 솔직히 더울때 이불 시원한 면 다리에 대고있으면 잠이 솔솔 와서 더 좋으네요 완벽만족임데이(2020-08-17 14:02:46 에 등록된 네이버 페이 구매평)\n",
      "\n",
      "반신반의하면서 구입했는데,약간 냉감도 도는데, 추운건 아니고상쾌한 느낌입니다쿨그레이 샀는데, 색도 이쁘고잠도 잘 자고 있습니다빨고 나서도 쾌감 유지될지 궁금해지네요\n",
      "\n",
      "남편은 진한게 애방에 좋대서 한개는 이렇게 깔았는데 괜찮네요 더 시원해보이기도하구요  뒤에 미끌림방지도있지만 끈도있어 침대에고정 ㅋ저 매트리스도 바디럽건데 다 바디럽으로 바뀌는중입니다\n",
      "\n",
      "최고입니다 그냥 막연히 최고라는 어제 받아서 아주 시원하게 잘잤어요~ 부러워서 좋습니다 ㅎㅎ\n",
      "\n"
     ]
    }
   ],
   "source": [
    "for num in range(1, 6): # 시작범위, 끝범위 + 1\n",
    "    url = f'https://review4.cre.ma/bodyluv.kr/products/reviews?app=0&iframe=1&iframe_id=crema-product-reviews-2&page={num}&parent_url=https%3A%2F%2Fbodyluv.kr%2Fproduct%2F%25EB%25B0%2594%25EB%2594%2594%25EB%259F%25BD-%25EB%2594%25A5%25EC%258A%25AC%25EB%25A6%25BD-%25EC%25BF%25A8-%25EC%259D%25B4%25EB%25B6%2588-v2-%25EC%2595%2588%25ED%258B%25B0%25EB%25B2%2584%25EA%25B7%25B8%2F437%2Fcategory%2F1%2Fdisplay%2F2%2F%23prdReview&product_code=437&secure_device_token=V2a7fbc1c8ea0d846998c3d05af17107d1a16e009183a5d436f54c49977517bd5469dbdc22de3116ba0433dd0032775b8e&widget_env=100&widget_style='\n",
    "\n",
    "    res = req.get(url)\n",
    "\n",
    "    # bs 객체화\n",
    "    soup = bs(res.text, 'lxml')\n",
    "\n",
    "    # 리뷰데이터 수집\n",
    "    review = soup.select('div.review_list_v2__message.js-collapsed-review-content.js-translate-text')\n",
    "    print(f'[{num}페이지]')\n",
    "    # 순수한 콘텐츠만 추출 \n",
    "    for i in review :\n",
    "        print(i.text.strip())\n",
    "        print()"
   ]
  }
 ],
 "metadata": {
  "kernelspec": {
   "display_name": "base",
   "language": "python",
   "name": "python3"
  },
  "language_info": {
   "codemirror_mode": {
    "name": "ipython",
    "version": 3
   },
   "file_extension": ".py",
   "mimetype": "text/x-python",
   "name": "python",
   "nbconvert_exporter": "python",
   "pygments_lexer": "ipython3",
   "version": "3.11.5"
  }
 },
 "nbformat": 4,
 "nbformat_minor": 2
}
