{
 "cells": [
  {
   "cell_type": "markdown",
   "metadata": {},
   "source": [
    "### 학습목표\n",
    "- 멜론 페이지에서 정보를 받아와 top100 데이터 수집\n",
    "- 노래제목, 가수명 \n",
    "- 추출한 데이터를 활용 "
   ]
  },
  {
   "cell_type": "code",
   "execution_count": 6,
   "metadata": {},
   "outputs": [],
   "source": [
    "# 라이브러리 불러오기\n",
    "import requests as req\n",
    "from bs4 import BeautifulSoup as bs"
   ]
  },
  {
   "cell_type": "code",
   "execution_count": 9,
   "metadata": {},
   "outputs": [
    {
     "data": {
      "text/plain": [
       "<Response [200]>"
      ]
     },
     "execution_count": 9,
     "metadata": {},
     "output_type": "execute_result"
    }
   ],
   "source": [
    "# 페이저 정보 받아오기 (res)\n",
    "url = \"https://www.melon.com/chart/\"\n",
    "res = req.get(url)\n",
    "req.get(url)\n",
    "# Response[406] : 클라이언트의 요청에 문제 발생 ! \n",
    "# => 멜론 서버에서 저작권 문제로 브라우저를 통해 접근하지 않은 것을 인지하고 차단 \n",
    "# => 요청 시 브라우저 정보를 포함하여 요청 (브라우저 인 \"척\")\n",
    "# => 개발자도구 - Network - 헤더정보(user-agent) 필요 \n",
    "# {'key':'value'}\n",
    "h = {'User-agent':'Mozilla/5.0 (Windows NT 10.0; Win64; x64) AppleWebKit/537.36 (KHTML, like Gecko) Chrome/121.0.0.0 Safari/537.36'}\n",
    "res = req.get(url, headers = h)\n",
    "res"
   ]
  },
  {
   "cell_type": "code",
   "execution_count": null,
   "metadata": {},
   "outputs": [],
   "source": [
    "# bs객체화 \n",
    "soup = bs(res.text, 'lxml')\n",
    "soup "
   ]
  },
  {
   "cell_type": "markdown",
   "metadata": {},
   "source": [
    "- 노래 제목 추출"
   ]
  },
  {
   "cell_type": "code",
   "execution_count": 32,
   "metadata": {},
   "outputs": [],
   "source": [
    "soup.select('div.ellipsis rank01>span>a')\n",
    "# 태그 선택 결과 > 빈 리스트 \n",
    "# -> 왜? 클래스명 사이에 공백 때문 \n",
    "# 자손 선택자의 기호 ' ' > 따라서 아래와 같이 수정 \n",
    "song = soup.select('div.ellipsis.rank01>span>a')"
   ]
  },
  {
   "cell_type": "code",
   "execution_count": 19,
   "metadata": {},
   "outputs": [
    {
     "data": {
      "text/plain": [
       "'Love wins all'"
      ]
     },
     "execution_count": 19,
     "metadata": {},
     "output_type": "execute_result"
    }
   ],
   "source": [
    "# 확인\n",
    "song[0].text"
   ]
  },
  {
   "cell_type": "code",
   "execution_count": null,
   "metadata": {},
   "outputs": [],
   "source": [
    "# 100개 데이터 콘텐츠만 추출 \n",
    "for i in range(len(song)):\n",
    "    print(song[i].text)"
   ]
  },
  {
   "cell_type": "code",
   "execution_count": 44,
   "metadata": {},
   "outputs": [],
   "source": [
    "singer = soup.select('div.ellipsis.rank02')\n",
    "soup.select('div.ellipsis.rank02')[0].text\n",
    "# 개수확인\n",
    "len(singer)\n",
    "# top100이라고 해서 100개인 줄 알았더니 결과로는 103개 ! \n",
    "# => 원하는 정보를 정확하게 가져왔는지 확인해주는 작업 반드시 필요 \n",
    "# 콘텐츠 확인\n",
    "singer = soup.select('div.ellipsis.rank02>span')"
   ]
  },
  {
   "cell_type": "code",
   "execution_count": null,
   "metadata": {},
   "outputs": [],
   "source": [
    "for i in range(len(singer)):\n",
    "    print(singer[i].text)"
   ]
  },
  {
   "cell_type": "markdown",
   "metadata": {},
   "source": [
    "- 데이터 내보내기 \n",
    "    1. 분산되어 있는 데이터를 데이터 리스트에 담아주기 \n",
    "    2. 표와 같은 형태로 만들어주기 (DataFrame화)\n",
    "    3. csv 파일로 내보내기"
   ]
  },
  {
   "cell_type": "code",
   "execution_count": 51,
   "metadata": {},
   "outputs": [],
   "source": [
    "# 데이터 리스트에 담기 \n",
    "# 빈 리스트 생성 \n",
    "song_list = []\n",
    "singer_list = []\n",
    "rank_list = []\n",
    "# 반복문을 통해 데이터 누적 \n",
    "for i in range(len(song)):\n",
    "    song_list.append(song[i].text)\n",
    "    singer_list.append(singer[i].text)\n",
    "    rank_list.append(i+1)"
   ]
  },
  {
   "cell_type": "code",
   "execution_count": 52,
   "metadata": {},
   "outputs": [
    {
     "data": {
      "text/plain": [
       "['Love wins all',\n",
       " '밤양갱',\n",
       " '첫 만남은 계획대로 되지 않아',\n",
       " 'To. X',\n",
       " '비의 랩소디',\n",
       " 'Love 119',\n",
       " '에피소드',\n",
       " 'Perfect Night',\n",
       " '그대만 있다면 (여름날 우리 X 너드커넥션 (Nerd Connection))',\n",
       " 'Drama',\n",
       " 'EASY',\n",
       " 'Super Lady',\n",
       " '헤어지자 말해요',\n",
       " 'Wife',\n",
       " '사랑은 늘 도망가',\n",
       " '인사',\n",
       " '꿈',\n",
       " 'Seven (feat. Latto) - Clean Ver.',\n",
       " '모래 알갱이',\n",
       " 'MANIAC',\n",
       " 'I AM',\n",
       " '우리들의 블루스',\n",
       " 'Get A Guitar',\n",
       " 'Do or Die',\n",
       " '다시 만날 수 있을까',\n",
       " '너의 모든 순간',\n",
       " 'Baddie',\n",
       " 'Love Lee',\n",
       " '이제 나만 믿어요',\n",
       " '무지개',\n",
       " 'You & Me',\n",
       " '사막에서 꽃을 피우듯',\n",
       " '예뻤어',\n",
       " 'London Boy',\n",
       " 'Polaroid',\n",
       " '아버지',\n",
       " '잘 지내자, 우리 (여름날 우리 X 로이킴)',\n",
       " 'Super Shy',\n",
       " 'Hype Boy',\n",
       " '퀸카 (Queencard)',\n",
       " '인생찬가',\n",
       " '사랑인가 봐',\n",
       " '한 페이지가 될 수 있게',\n",
       " 'Ditto',\n",
       " '후라이의 꿈',\n",
       " 'A bientot',\n",
       " 'Standing Next to You',\n",
       " 'ETA',\n",
       " '어떻게 이별까지 사랑하겠어, 널 사랑하는 거지',\n",
       " '사랑할 수밖에',\n",
       " '사건의 지평선',\n",
       " '기억해줘요 내 모든 날과 그때를',\n",
       " '사랑하지 않아서 그랬어',\n",
       " 'Spicy',\n",
       " '취중고백',\n",
       " '심(心)',\n",
       " '첫 눈',\n",
       " '연애편지',\n",
       " '그대가 내 안에 박혔다(그내박)',\n",
       " '모든 날, 모든 순간 (Every day, Every Moment)',\n",
       " '별 떨어진다 (I Do)',\n",
       " '이브, 프시케 그리고 푸른 수염의 아내',\n",
       " '봄날',\n",
       " '나는 아픈 건 딱 질색이니까',\n",
       " 'Yes or No (Feat. 허윤진 of LE SSERAFIM, Crush)',\n",
       " 'Dynamite',\n",
       " 'LOVE DIVE',\n",
       " \"I Don't Think That I Like Her\",\n",
       " '주저하는 연인들을 위해',\n",
       " 'Kitsch',\n",
       " 'Steal The Show (From “엘리멘탈”)',\n",
       " '해요 (2022)',\n",
       " '그대가 있는 곳, 언제 어디든',\n",
       " '사랑..그게 뭔데',\n",
       " '손오공',\n",
       " 'Discord',\n",
       " '음악의 신',\n",
       " '물론',\n",
       " 'After LIKE',\n",
       " '다정히 내 이름을 부르면',\n",
       " '파이팅 해야지 (Feat. 이영지)',\n",
       " 'OMG',\n",
       " 'Dangerously',\n",
       " 'Fast Forward',\n",
       " 'I Love You',\n",
       " 'Smoke (Prod. Dynamicduo, Padi)',\n",
       " 'Off The Record',\n",
       " 'Butter',\n",
       " '그중에 그대를 만나',\n",
       " '건물 사이에 피어난 장미 (Rose Blossom)',\n",
       " 'Bubble',\n",
       " 'UNFORGIVEN (feat. Nile Rodgers)',\n",
       " 'Attention',\n",
       " '나에게 그대만이',\n",
       " 'Either Way',\n",
       " 'Merry PLLIstmas',\n",
       " '여섯 번째 여름',\n",
       " '눈이 오잖아(Feat.헤이즈)',\n",
       " '잠시라도 우리',\n",
       " 'Talk Saxy']"
      ]
     },
     "metadata": {},
     "output_type": "display_data"
    }
   ],
   "source": [
    "display(song_list)"
   ]
  },
  {
   "cell_type": "code",
   "execution_count": 48,
   "metadata": {},
   "outputs": [],
   "source": [
    "import pandas as pd"
   ]
  },
  {
   "cell_type": "code",
   "execution_count": 60,
   "metadata": {},
   "outputs": [],
   "source": [
    "# DataFrame화 (dictionary를 활용)\n",
    "# 키값 -> 컬럼명 \n",
    "dic = {'노래제목':song_list,\n",
    "       '가수':singer_list,\n",
    "       '순위':rank_list}\n",
    "melon = pd.DataFrame(dic)\n",
    "melon.set_index('순위', inplace=True)"
   ]
  },
  {
   "cell_type": "code",
   "execution_count": 61,
   "metadata": {},
   "outputs": [
    {
     "data": {
      "text/html": [
       "<div>\n",
       "<style scoped>\n",
       "    .dataframe tbody tr th:only-of-type {\n",
       "        vertical-align: middle;\n",
       "    }\n",
       "\n",
       "    .dataframe tbody tr th {\n",
       "        vertical-align: top;\n",
       "    }\n",
       "\n",
       "    .dataframe thead th {\n",
       "        text-align: right;\n",
       "    }\n",
       "</style>\n",
       "<table border=\"1\" class=\"dataframe\">\n",
       "  <thead>\n",
       "    <tr style=\"text-align: right;\">\n",
       "      <th></th>\n",
       "      <th>노래제목</th>\n",
       "      <th>가수</th>\n",
       "    </tr>\n",
       "    <tr>\n",
       "      <th>순위</th>\n",
       "      <th></th>\n",
       "      <th></th>\n",
       "    </tr>\n",
       "  </thead>\n",
       "  <tbody>\n",
       "    <tr>\n",
       "      <th>1</th>\n",
       "      <td>Love wins all</td>\n",
       "      <td>아이유</td>\n",
       "    </tr>\n",
       "    <tr>\n",
       "      <th>2</th>\n",
       "      <td>밤양갱</td>\n",
       "      <td>비비 (BIBI)</td>\n",
       "    </tr>\n",
       "    <tr>\n",
       "      <th>3</th>\n",
       "      <td>첫 만남은 계획대로 되지 않아</td>\n",
       "      <td>TWS (투어스)</td>\n",
       "    </tr>\n",
       "    <tr>\n",
       "      <th>4</th>\n",
       "      <td>To. X</td>\n",
       "      <td>태연 (TAEYEON)</td>\n",
       "    </tr>\n",
       "    <tr>\n",
       "      <th>5</th>\n",
       "      <td>비의 랩소디</td>\n",
       "      <td>임재현</td>\n",
       "    </tr>\n",
       "    <tr>\n",
       "      <th>...</th>\n",
       "      <td>...</td>\n",
       "      <td>...</td>\n",
       "    </tr>\n",
       "    <tr>\n",
       "      <th>96</th>\n",
       "      <td>Merry PLLIstmas</td>\n",
       "      <td>PLAVE</td>\n",
       "    </tr>\n",
       "    <tr>\n",
       "      <th>97</th>\n",
       "      <td>여섯 번째 여름</td>\n",
       "      <td>PLAVE</td>\n",
       "    </tr>\n",
       "    <tr>\n",
       "      <th>98</th>\n",
       "      <td>눈이 오잖아(Feat.헤이즈)</td>\n",
       "      <td>이무진</td>\n",
       "    </tr>\n",
       "    <tr>\n",
       "      <th>99</th>\n",
       "      <td>잠시라도 우리</td>\n",
       "      <td>성시경, 나얼</td>\n",
       "    </tr>\n",
       "    <tr>\n",
       "      <th>100</th>\n",
       "      <td>Talk Saxy</td>\n",
       "      <td>RIIZE</td>\n",
       "    </tr>\n",
       "  </tbody>\n",
       "</table>\n",
       "<p>100 rows × 2 columns</p>\n",
       "</div>"
      ],
      "text/plain": [
       "                 노래제목            가수\n",
       "순위                                 \n",
       "1       Love wins all           아이유\n",
       "2                 밤양갱     비비 (BIBI)\n",
       "3    첫 만남은 계획대로 되지 않아     TWS (투어스)\n",
       "4               To. X  태연 (TAEYEON)\n",
       "5              비의 랩소디           임재현\n",
       "..                ...           ...\n",
       "96    Merry PLLIstmas         PLAVE\n",
       "97           여섯 번째 여름         PLAVE\n",
       "98   눈이 오잖아(Feat.헤이즈)           이무진\n",
       "99            잠시라도 우리       성시경, 나얼\n",
       "100         Talk Saxy         RIIZE\n",
       "\n",
       "[100 rows x 2 columns]"
      ]
     },
     "execution_count": 61,
     "metadata": {},
     "output_type": "execute_result"
    }
   ],
   "source": [
    "melon"
   ]
  },
  {
   "cell_type": "code",
   "execution_count": 63,
   "metadata": {},
   "outputs": [],
   "source": [
    "# csv 파일로 내보내기! \n",
    "# df명.to_csv('경로/파일명.csb'\n",
    "melon.to_csv('멜론차트.csv', encoding='euc-kr')\n",
    "# 인코딩 작업도 진행해주는 것이 좋음 \n"
   ]
  }
 ],
 "metadata": {
  "kernelspec": {
   "display_name": "base",
   "language": "python",
   "name": "python3"
  },
  "language_info": {
   "codemirror_mode": {
    "name": "ipython",
    "version": 3
   },
   "file_extension": ".py",
   "mimetype": "text/x-python",
   "name": "python",
   "nbconvert_exporter": "python",
   "pygments_lexer": "ipython3",
   "version": "3.11.5"
  }
 },
 "nbformat": 4,
 "nbformat_minor": 2
}
