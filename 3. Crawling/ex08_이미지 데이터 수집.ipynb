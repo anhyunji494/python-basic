{
 "cells": [
  {
   "cell_type": "markdown",
   "metadata": {},
   "source": [
    "### 이미지 데이터 수집 후 저장\n",
    "- 이미지를 수집한 후 저장하는 실습 \n",
    "- 폴더 생성하는 작업 또한 자동화 \n",
    "- 폴더 생성하기 \n",
    "os.mkdir(\"경로\\\\\\폴더이름\")"
   ]
  },
  {
   "cell_type": "code",
   "execution_count": 1,
   "metadata": {},
   "outputs": [],
   "source": [
    "# 라이브러리 불러오기 \n",
    "from selenium import webdriver as wb # 통제,제어\n",
    "from selenium.webdriver.common.keys import Keys # 입력, 컴퓨터용 키보드\n",
    "from selenium.webdriver.common.by import By # 구분\n",
    "import pandas as pd\n",
    "import time\n",
    "from tqdm import tqdm #반복상황 로딩바로 출력 \n",
    "\n",
    "# 이미지 저장을 위한 라이브러리 \n",
    "# 수집 (src 정보를 수집 > 컴퓨터에 이미지로 저장해주는 라이브러리)\n",
    "from urllib.request import urlretrieve\n",
    "# 파일이나 폴더를 생성해주는 라이브러리 (파일시스템 라이브러리)\n",
    "import os\n",
    "# operating system의 약자 \n"
   ]
  },
  {
   "cell_type": "markdown",
   "metadata": {},
   "source": [
    "- 폴더 생성하기 (자동화)"
   ]
  },
  {
   "cell_type": "code",
   "execution_count": 3,
   "metadata": {},
   "outputs": [
    {
     "ename": "FileExistsError",
     "evalue": "[WinError 183] 파일이 이미 있으므로 만들 수 없습니다: 'C:\\\\Users\\\\smhrd\\\\Desktop\\\\포켓몬도감'",
     "output_type": "error",
     "traceback": [
      "\u001b[1;31m---------------------------------------------------------------------------\u001b[0m",
      "\u001b[1;31mFileExistsError\u001b[0m                           Traceback (most recent call last)",
      "Cell \u001b[1;32mIn[3], line 2\u001b[0m\n\u001b[0;32m      1\u001b[0m \u001b[38;5;66;03m# 폴더 생성하기 \u001b[39;00m\n\u001b[1;32m----> 2\u001b[0m os\u001b[38;5;241m.\u001b[39mmkdir(\u001b[38;5;124m\"\u001b[39m\u001b[38;5;124mC:\u001b[39m\u001b[38;5;130;01m\\\\\u001b[39;00m\u001b[38;5;124mUsers\u001b[39m\u001b[38;5;130;01m\\\\\u001b[39;00m\u001b[38;5;124msmhrd\u001b[39m\u001b[38;5;130;01m\\\\\u001b[39;00m\u001b[38;5;124mDesktop\u001b[39m\u001b[38;5;130;01m\\\\\u001b[39;00m\u001b[38;5;124m포켓몬도감\u001b[39m\u001b[38;5;124m\"\u001b[39m)\n",
      "\u001b[1;31mFileExistsError\u001b[0m: [WinError 183] 파일이 이미 있으므로 만들 수 없습니다: 'C:\\\\Users\\\\smhrd\\\\Desktop\\\\포켓몬도감'"
     ]
    }
   ],
   "source": [
    "# 폴더 생성하기 \n",
    "os.mkdir(\"C:\\\\Users\\\\smhrd\\\\Desktop\\\\포켓몬도감\")\n",
    "# 이미 존재하는 폴더 이름일 경우에는 오류가 발생 \n",
    "# 조건을 주어 오류를 발생하지 않도록 실행"
   ]
  },
  {
   "cell_type": "code",
   "execution_count": 5,
   "metadata": {},
   "outputs": [
    {
     "name": "stdout",
     "output_type": "stream",
     "text": [
      "이미 존재하는 폴더입니다.\n"
     ]
    }
   ],
   "source": [
    "# 만약에 폴더명이 존재하지 않는다면 생성해주고 \n",
    "if not os.path.isdir(\"C:\\\\Users\\\\smhrd\\\\Desktop\\\\포켓몬도감\"):\n",
    "    os.mkdir(\"C:\\\\Users\\\\smhrd\\\\Desktop\\\\포켓몬도감\")\n",
    "    # 폴더를 생성하는 코드를 작성 \n",
    "# 그렇지 않으면(폴더명이 존재한다면) 이미 존재하는 폴더입니다 라고 출력 \n",
    "else : \n",
    "    print(\"이미 존재하는 폴더입니다.\")\n"
   ]
  },
  {
   "cell_type": "code",
   "execution_count": 8,
   "metadata": {},
   "outputs": [],
   "source": [
    "# 포켓몬 페이지 불러오기 \n",
    "driver = wb.Chrome()\n",
    "driver.get(\"https://www.pokemonkorea.co.kr/pokedex#pokedex_1\")"
   ]
  },
  {
   "cell_type": "code",
   "execution_count": 14,
   "metadata": {},
   "outputs": [
    {
     "ename": "AttributeError",
     "evalue": "'WebElement' object has no attribute 'img'",
     "output_type": "error",
     "traceback": [
      "\u001b[1;31m---------------------------------------------------------------------------\u001b[0m",
      "\u001b[1;31mAttributeError\u001b[0m                            Traceback (most recent call last)",
      "Cell \u001b[1;32mIn[14], line 5\u001b[0m\n\u001b[0;32m      1\u001b[0m \u001b[38;5;66;03m# 스스로 \u001b[39;00m\n\u001b[0;32m      2\u001b[0m \u001b[38;5;66;03m# 이미지 데이터 수집\u001b[39;00m\n\u001b[0;32m      3\u001b[0m \u001b[38;5;66;03m# 모든 이미지 데이터 수집 = > img 변수에 담기 \u001b[39;00m\n\u001b[0;32m      4\u001b[0m imgs \u001b[38;5;241m=\u001b[39m driver\u001b[38;5;241m.\u001b[39mfind_elements(By\u001b[38;5;241m.\u001b[39mCLASS_NAME,\u001b[38;5;124m'\u001b[39m\u001b[38;5;124mimg-fluid\u001b[39m\u001b[38;5;124m'\u001b[39m)\n\u001b[1;32m----> 5\u001b[0m imgs[\u001b[38;5;241m0\u001b[39m]\u001b[38;5;241m.\u001b[39mimg\n",
      "\u001b[1;31mAttributeError\u001b[0m: 'WebElement' object has no attribute 'img'"
     ]
    }
   ],
   "source": [
    "# 스스로 \n",
    "# 이미지 데이터 수집\n",
    "# 모든 이미지 데이터 수집 = > img 변수에 담기 \n",
    "imgs = driver.find_elements(By.CLASS_NAME,'img-fluid')\n",
    "# 우리가 추출하는 건 src 태그 !! "
   ]
  }
 ],
 "metadata": {
  "kernelspec": {
   "display_name": "base",
   "language": "python",
   "name": "python3"
  },
  "language_info": {
   "codemirror_mode": {
    "name": "ipython",
    "version": 3
   },
   "file_extension": ".py",
   "mimetype": "text/x-python",
   "name": "python",
   "nbconvert_exporter": "python",
   "pygments_lexer": "ipython3",
   "version": "3.11.5"
  }
 },
 "nbformat": 4,
 "nbformat_minor": 2
}
