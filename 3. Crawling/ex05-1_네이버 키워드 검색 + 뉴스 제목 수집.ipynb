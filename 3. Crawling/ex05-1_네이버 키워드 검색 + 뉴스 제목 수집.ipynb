{
 "cells": [
  {
   "cell_type": "markdown",
   "metadata": {},
   "source": [
    "### 네이버 메인 페이지에서 > 키워드 검색 > 뉴스탭 선택 > 뉴스 제목 \n",
    "\n"
   ]
  },
  {
   "cell_type": "code",
   "execution_count": null,
   "metadata": {},
   "outputs": [],
   "source": [
    "from selenium import webdriver as wb \n",
    "from selenium.webdriver.common.keys import Keys\n",
    "from selenium.webdriver.common.by import By\n",
    "import pandas as pd \n",
    "driver = wb.Chrome()\n",
    "driver.get('https://www.naver.com/')\n",
    "search = driver.find_element(By.ID,'query')\n",
    "search.send_keys('라이즈 원빈')\n",
    "search.send_keys(Keys.ENTER)\n",
    "btn = driver.find_element(By.ID,'search-btn')\n",
    "btn.click()\n",
    "btn_news = driver.find_element(By.CLASS_NAME,'tab')"
   ]
  },
  {
   "cell_type": "code",
   "execution_count": 8,
   "metadata": {},
   "outputs": [
    {
     "ename": "ElementNotInteractableException",
     "evalue": "Message: element not interactable\n  (Session info: chrome=121.0.6167.185)\nStacktrace:\n\tGetHandleVerifier [0x00007FF6DF777012+3522402]\n\t(No symbol) [0x00007FF6DF398352]\n\t(No symbol) [0x00007FF6DF24596D]\n\t(No symbol) [0x00007FF6DF28D3C6]\n\t(No symbol) [0x00007FF6DF281910]\n\t(No symbol) [0x00007FF6DF2AF05A]\n\t(No symbol) [0x00007FF6DF28120A]\n\t(No symbol) [0x00007FF6DF2AF270]\n\t(No symbol) [0x00007FF6DF2CBDA3]\n\t(No symbol) [0x00007FF6DF2AEE03]\n\t(No symbol) [0x00007FF6DF27F4D4]\n\t(No symbol) [0x00007FF6DF2805F1]\n\tGetHandleVerifier [0x00007FF6DF7A9B9D+3730157]\n\tGetHandleVerifier [0x00007FF6DF7FF02D+4079485]\n\tGetHandleVerifier [0x00007FF6DF7F75D3+4048163]\n\tGetHandleVerifier [0x00007FF6DF4CA649+718233]\n\t(No symbol) [0x00007FF6DF3A4A3F]\n\t(No symbol) [0x00007FF6DF39FA94]\n\t(No symbol) [0x00007FF6DF39FBC2]\n\t(No symbol) [0x00007FF6DF38F2E4]\n\tBaseThreadInitThunk [0x00007FF936EE7344+20]\n\tRtlUserThreadStart [0x00007FF9384E26B1+33]\n",
     "output_type": "error",
     "traceback": [
      "\u001b[1;31m---------------------------------------------------------------------------\u001b[0m",
      "\u001b[1;31mElementNotInteractableException\u001b[0m           Traceback (most recent call last)",
      "Cell \u001b[1;32mIn[8], line 12\u001b[0m\n\u001b[0;32m     10\u001b[0m search\u001b[38;5;241m.\u001b[39msend_keys(Keys\u001b[38;5;241m.\u001b[39mENTER)\n\u001b[0;32m     11\u001b[0m btn_next \u001b[38;5;241m=\u001b[39m driver\u001b[38;5;241m.\u001b[39mfind_element(By\u001b[38;5;241m.\u001b[39mCLASS_NAME,\u001b[38;5;124m'\u001b[39m\u001b[38;5;124mico_nav\u001b[39m\u001b[38;5;124m'\u001b[39m)\n\u001b[1;32m---> 12\u001b[0m btn_next\u001b[38;5;241m.\u001b[39mclick()\n\u001b[0;32m     13\u001b[0m btn_news \u001b[38;5;241m=\u001b[39m driver\u001b[38;5;241m.\u001b[39mfind_element(By\u001b[38;5;241m.\u001b[39mCSS_SELECTOR,\u001b[38;5;124m'\u001b[39m\u001b[38;5;124mtab:nth-child(3)\u001b[39m\u001b[38;5;124m'\u001b[39m)\n\u001b[0;32m     14\u001b[0m btn_news\u001b[38;5;241m.\u001b[39mclick()\n",
      "File \u001b[1;32mc:\\Users\\smhrd\\anaconda3\\Lib\\site-packages\\selenium\\webdriver\\remote\\webelement.py:94\u001b[0m, in \u001b[0;36mWebElement.click\u001b[1;34m(self)\u001b[0m\n\u001b[0;32m     92\u001b[0m \u001b[38;5;28;01mdef\u001b[39;00m \u001b[38;5;21mclick\u001b[39m(\u001b[38;5;28mself\u001b[39m) \u001b[38;5;241m-\u001b[39m\u001b[38;5;241m>\u001b[39m \u001b[38;5;28;01mNone\u001b[39;00m:\n\u001b[0;32m     93\u001b[0m \u001b[38;5;250m    \u001b[39m\u001b[38;5;124;03m\"\"\"Clicks the element.\"\"\"\u001b[39;00m\n\u001b[1;32m---> 94\u001b[0m     \u001b[38;5;28mself\u001b[39m\u001b[38;5;241m.\u001b[39m_execute(Command\u001b[38;5;241m.\u001b[39mCLICK_ELEMENT)\n",
      "File \u001b[1;32mc:\\Users\\smhrd\\anaconda3\\Lib\\site-packages\\selenium\\webdriver\\remote\\webelement.py:395\u001b[0m, in \u001b[0;36mWebElement._execute\u001b[1;34m(self, command, params)\u001b[0m\n\u001b[0;32m    393\u001b[0m     params \u001b[38;5;241m=\u001b[39m {}\n\u001b[0;32m    394\u001b[0m params[\u001b[38;5;124m\"\u001b[39m\u001b[38;5;124mid\u001b[39m\u001b[38;5;124m\"\u001b[39m] \u001b[38;5;241m=\u001b[39m \u001b[38;5;28mself\u001b[39m\u001b[38;5;241m.\u001b[39m_id\n\u001b[1;32m--> 395\u001b[0m \u001b[38;5;28;01mreturn\u001b[39;00m \u001b[38;5;28mself\u001b[39m\u001b[38;5;241m.\u001b[39m_parent\u001b[38;5;241m.\u001b[39mexecute(command, params)\n",
      "File \u001b[1;32mc:\\Users\\smhrd\\anaconda3\\Lib\\site-packages\\selenium\\webdriver\\remote\\webdriver.py:347\u001b[0m, in \u001b[0;36mWebDriver.execute\u001b[1;34m(self, driver_command, params)\u001b[0m\n\u001b[0;32m    345\u001b[0m response \u001b[38;5;241m=\u001b[39m \u001b[38;5;28mself\u001b[39m\u001b[38;5;241m.\u001b[39mcommand_executor\u001b[38;5;241m.\u001b[39mexecute(driver_command, params)\n\u001b[0;32m    346\u001b[0m \u001b[38;5;28;01mif\u001b[39;00m response:\n\u001b[1;32m--> 347\u001b[0m     \u001b[38;5;28mself\u001b[39m\u001b[38;5;241m.\u001b[39merror_handler\u001b[38;5;241m.\u001b[39mcheck_response(response)\n\u001b[0;32m    348\u001b[0m     response[\u001b[38;5;124m\"\u001b[39m\u001b[38;5;124mvalue\u001b[39m\u001b[38;5;124m\"\u001b[39m] \u001b[38;5;241m=\u001b[39m \u001b[38;5;28mself\u001b[39m\u001b[38;5;241m.\u001b[39m_unwrap_value(response\u001b[38;5;241m.\u001b[39mget(\u001b[38;5;124m\"\u001b[39m\u001b[38;5;124mvalue\u001b[39m\u001b[38;5;124m\"\u001b[39m, \u001b[38;5;28;01mNone\u001b[39;00m))\n\u001b[0;32m    349\u001b[0m     \u001b[38;5;28;01mreturn\u001b[39;00m response\n",
      "File \u001b[1;32mc:\\Users\\smhrd\\anaconda3\\Lib\\site-packages\\selenium\\webdriver\\remote\\errorhandler.py:229\u001b[0m, in \u001b[0;36mErrorHandler.check_response\u001b[1;34m(self, response)\u001b[0m\n\u001b[0;32m    227\u001b[0m         alert_text \u001b[38;5;241m=\u001b[39m value[\u001b[38;5;124m\"\u001b[39m\u001b[38;5;124malert\u001b[39m\u001b[38;5;124m\"\u001b[39m]\u001b[38;5;241m.\u001b[39mget(\u001b[38;5;124m\"\u001b[39m\u001b[38;5;124mtext\u001b[39m\u001b[38;5;124m\"\u001b[39m)\n\u001b[0;32m    228\u001b[0m     \u001b[38;5;28;01mraise\u001b[39;00m exception_class(message, screen, stacktrace, alert_text)  \u001b[38;5;66;03m# type: ignore[call-arg]  # mypy is not smart enough here\u001b[39;00m\n\u001b[1;32m--> 229\u001b[0m \u001b[38;5;28;01mraise\u001b[39;00m exception_class(message, screen, stacktrace)\n",
      "\u001b[1;31mElementNotInteractableException\u001b[0m: Message: element not interactable\n  (Session info: chrome=121.0.6167.185)\nStacktrace:\n\tGetHandleVerifier [0x00007FF6DF777012+3522402]\n\t(No symbol) [0x00007FF6DF398352]\n\t(No symbol) [0x00007FF6DF24596D]\n\t(No symbol) [0x00007FF6DF28D3C6]\n\t(No symbol) [0x00007FF6DF281910]\n\t(No symbol) [0x00007FF6DF2AF05A]\n\t(No symbol) [0x00007FF6DF28120A]\n\t(No symbol) [0x00007FF6DF2AF270]\n\t(No symbol) [0x00007FF6DF2CBDA3]\n\t(No symbol) [0x00007FF6DF2AEE03]\n\t(No symbol) [0x00007FF6DF27F4D4]\n\t(No symbol) [0x00007FF6DF2805F1]\n\tGetHandleVerifier [0x00007FF6DF7A9B9D+3730157]\n\tGetHandleVerifier [0x00007FF6DF7FF02D+4079485]\n\tGetHandleVerifier [0x00007FF6DF7F75D3+4048163]\n\tGetHandleVerifier [0x00007FF6DF4CA649+718233]\n\t(No symbol) [0x00007FF6DF3A4A3F]\n\t(No symbol) [0x00007FF6DF39FA94]\n\t(No symbol) [0x00007FF6DF39FBC2]\n\t(No symbol) [0x00007FF6DF38F2E4]\n\tBaseThreadInitThunk [0x00007FF936EE7344+20]\n\tRtlUserThreadStart [0x00007FF9384E26B1+33]\n"
     ]
    }
   ],
   "source": [
    "from selenium import webdriver as wb \n",
    "from selenium.webdriver.common.keys import Keys\n",
    "from selenium.webdriver.common.by import By\n",
    "import pandas as pd \n",
    "from bs4 import BeautifulSoup as bs\n",
    "driver = wb.Chrome()\n",
    "driver.get('https://www.naver.com/')\n",
    "search = driver.find_element(By.ID,'query')\n",
    "search.send_keys('라이즈 원빈')\n",
    "search.send_keys(Keys.ENTER)\n",
    "btn_next = driver.find_element(By.CLASS_NAME,'ico_nav')\n",
    "btn_next.click()\n",
    "btn_news = driver.find_element(By.CSS_SELECTOR,'tab:nth-child(3)')\n",
    "btn_news.click()"
   ]
  }
 ],
 "metadata": {
  "kernelspec": {
   "display_name": "base",
   "language": "python",
   "name": "python3"
  },
  "language_info": {
   "codemirror_mode": {
    "name": "ipython",
    "version": 3
   },
   "file_extension": ".py",
   "mimetype": "text/x-python",
   "name": "python",
   "nbconvert_exporter": "python",
   "pygments_lexer": "ipython3",
   "version": "3.11.5"
  }
 },
 "nbformat": 4,
 "nbformat_minor": 2
}
