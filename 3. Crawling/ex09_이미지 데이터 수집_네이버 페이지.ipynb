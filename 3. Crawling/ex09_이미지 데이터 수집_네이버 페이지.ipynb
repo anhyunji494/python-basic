{
 "cells": [
  {
   "cell_type": "markdown",
   "metadata": {},
   "source": [
    "- 네이버 메인 페이지에서 수집하고 싶은 이미지를 검색 후 이미지 수집"
   ]
  },
  {
   "cell_type": "code",
   "execution_count": 38,
   "metadata": {},
   "outputs": [],
   "source": [
    "# 라이브러리 불러오기\n",
    "from selenium import webdriver as wb\n",
    "from selenium.webdriver.common.keys import Keys\n",
    "from selenium.webdriver.common.by import By\n",
    "import pandas as pd \n",
    "import time\n",
    "from tqdm import tqdm\n",
    "from urllib.request import urlretrieve\n",
    "import os"
   ]
  },
  {
   "cell_type": "code",
   "execution_count": 39,
   "metadata": {},
   "outputs": [],
   "source": [
    "# 키워드 입력\n",
    "keyword = input(\"키워드를 입력하세요 >> \")"
   ]
  },
  {
   "cell_type": "code",
   "execution_count": 40,
   "metadata": {},
   "outputs": [],
   "source": [
    "# 폴더 생성(키워드로 폴더명 생성)\n",
    "if not os.path.isdir(f\"C:\\\\Users\\\\smhrd\\\\Desktop\\\\{keyword}\"):\n",
    "    os.mkdir(f\"C:\\\\Users\\\\smhrd\\\\Desktop\\\\{keyword}\")\n",
    "    print(f\"'{keyword}'폴더가 생성되었습니다.\")\n",
    "else : \n",
    "    print(\"이미 존재하는 폴더입니다.\")"
   ]
  },
  {
   "cell_type": "code",
   "execution_count": 47,
   "metadata": {},
   "outputs": [],
   "source": [
    "# 네이버 메인페이지 열기 \n",
    "# 키워드 검색\n",
    "driver = wb.Chrome()\n",
    "driver.get(\"https://www.naver.com/\")\n",
    "\n",
    "# 브라우저 최대화 -> 화면이 잘리면 정보를 가져오지 못함 !! \n",
    "driver.maximize_window()\n",
    "\n",
    "search = driver.find_element(By.ID,'query')\n",
    "\n",
    "search.send_keys(keyword)\n",
    "search.send_keys(Keys.ENTER)"
   ]
  },
  {
   "cell_type": "code",
   "execution_count": 48,
   "metadata": {},
   "outputs": [],
   "source": [
    "# 이미지 탭으로 이동\n",
    "btn_img = driver.find_element(By.LINK_TEXT,\"이미지\")\n",
    "btn_img.click()\n",
    "btn_high_quality = driver.find_element(By.CSS_SELECTOR,'#snb > div.mod_group_option_filter.image_option._search_option_simple_wrap > div > div.option_area.type_multi > a:nth-child(2)')\n",
    "btn_high_quality.click()"
   ]
  },
  {
   "cell_type": "code",
   "execution_count": 49,
   "metadata": {},
   "outputs": [],
   "source": [
    "# 자동 스크롤\n",
    "# 스크롤 높이 가져옴\n",
    "last_height = driver.execute_script(\"return document.body.scrollHeight\")\n",
    "sleep_time = 1\n",
    "while True:\n",
    "    # 끝까지 스크롤 내리기\n",
    "    driver.execute_script(\"window.scrollTo(0, document.body.scrollHeight);\")\n",
    "\n",
    "    # 대기\n",
    "    time.sleep(sleep_time)\n",
    "\n",
    "    # 스크롤 내린 후 스크롤 높이 다시 가져옴\n",
    "    new_height = driver.execute_script(\"return document.body.scrollHeight\")\n",
    "    if new_height == last_height:\n",
    "        break\n",
    "    last_height = new_height"
   ]
  },
  {
   "cell_type": "code",
   "execution_count": 50,
   "metadata": {},
   "outputs": [
    {
     "ename": "KeyboardInterrupt",
     "evalue": "",
     "output_type": "error",
     "traceback": [
      "\u001b[1;31m---------------------------------------------------------------------------\u001b[0m",
      "\u001b[1;31mKeyboardInterrupt\u001b[0m                         Traceback (most recent call last)",
      "Cell \u001b[1;32mIn[50], line 6\u001b[0m\n\u001b[0;32m      4\u001b[0m \u001b[38;5;28;01mfor\u001b[39;00m i \u001b[38;5;129;01min\u001b[39;00m \u001b[38;5;28mrange\u001b[39m(\u001b[38;5;28mlen\u001b[39m(kazuha)):\n\u001b[0;32m      5\u001b[0m     urlretrieve(kazuha[i]\u001b[38;5;241m.\u001b[39mget_attribute(\u001b[38;5;124m'\u001b[39m\u001b[38;5;124msrc\u001b[39m\u001b[38;5;124m'\u001b[39m),\u001b[38;5;124mf\u001b[39m\u001b[38;5;124m'\u001b[39m\u001b[38;5;124mC:\u001b[39m\u001b[38;5;130;01m\\\\\u001b[39;00m\u001b[38;5;124mUsers\u001b[39m\u001b[38;5;130;01m\\\\\u001b[39;00m\u001b[38;5;124msmhrd\u001b[39m\u001b[38;5;130;01m\\\\\u001b[39;00m\u001b[38;5;124mDesktop\u001b[39m\u001b[38;5;130;01m\\\\\u001b[39;00m\u001b[38;5;132;01m{\u001b[39;00mkeyword\u001b[38;5;132;01m}\u001b[39;00m\u001b[38;5;130;01m\\\\\u001b[39;00m\u001b[38;5;132;01m{\u001b[39;00mkeyword\u001b[38;5;132;01m}\u001b[39;00m\u001b[38;5;124m[\u001b[39m\u001b[38;5;132;01m{\u001b[39;00mi\u001b[38;5;241m+\u001b[39m\u001b[38;5;241m1\u001b[39m\u001b[38;5;132;01m}\u001b[39;00m\u001b[38;5;124m].jpg\u001b[39m\u001b[38;5;124m'\u001b[39m)\n\u001b[1;32m----> 6\u001b[0m     time\u001b[38;5;241m.\u001b[39msleep(\u001b[38;5;241m0.5\u001b[39m)\n",
      "\u001b[1;31mKeyboardInterrupt\u001b[0m: "
     ]
    }
   ],
   "source": [
    "# 이미지 태그 수집\n",
    "img = driver.find_elements(By.CLASS_NAME,'_fe_image_tab_content_thumbnail_image')\n",
    "# 순수한 src 데이터만 추출하여 이미지 파일로 저장\n",
    "for i in range(len(img)):\n",
    "    urlretrieve(img[i].get_attribute('src'),f'C:\\\\Users\\\\smhrd\\\\Desktop\\\\{keyword}\\\\{keyword}[{i+1}].jpg')\n",
    "    time.sleep(0.5)"
   ]
  },
  {
   "cell_type": "code",
   "execution_count": null,
   "metadata": {},
   "outputs": [],
   "source": []
  }
 ],
 "metadata": {
  "kernelspec": {
   "display_name": "base",
   "language": "python",
   "name": "python3"
  },
  "language_info": {
   "codemirror_mode": {
    "name": "ipython",
    "version": 3
   },
   "file_extension": ".py",
   "mimetype": "text/x-python",
   "name": "python",
   "nbconvert_exporter": "python",
   "pygments_lexer": "ipython3",
   "version": "3.11.5"
  }
 },
 "nbformat": 4,
 "nbformat_minor": 2
}
