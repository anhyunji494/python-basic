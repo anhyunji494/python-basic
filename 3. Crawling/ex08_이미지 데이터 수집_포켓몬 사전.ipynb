{
 "cells": [
  {
   "cell_type": "markdown",
   "metadata": {},
   "source": [
    "### 이미지 데이터 수집 후 저장\n",
    "- 이미지를 수집한 후 저장하는 실습 \n",
    "- 폴더 생성하는 작업 또한 자동화 \n",
    "- 폴더 생성하기 \n",
    "os.mkdir(\"경로\\\\\\폴더이름\")"
   ]
  },
  {
   "cell_type": "code",
   "execution_count": 2,
   "metadata": {},
   "outputs": [],
   "source": [
    "# 라이브러리 불러오기 \n",
    "from selenium import webdriver as wb # 통제,제어\n",
    "from selenium.webdriver.common.keys import Keys # 입력, 컴퓨터용 키보드\n",
    "from selenium.webdriver.common.by import By # 구분\n",
    "import pandas as pd\n",
    "import time\n",
    "from tqdm import tqdm #반복상황 로딩바로 출력 \n",
    "\n",
    "# 이미지 저장을 위한 라이브러리 \n",
    "# 수집 (src 정보를 수집 > 컴퓨터에 이미지로 저장해주는 라이브러리)\n",
    "from urllib.request import urlretrieve\n",
    "# 파일이나 폴더를 생성해주는 라이브러리 (파일시스템 라이브러리)\n",
    "import os\n",
    "# operating system의 약자 \n"
   ]
  },
  {
   "cell_type": "markdown",
   "metadata": {},
   "source": [
    "- 폴더 생성하기 (자동화)"
   ]
  },
  {
   "cell_type": "code",
   "execution_count": 3,
   "metadata": {},
   "outputs": [
    {
     "ename": "FileExistsError",
     "evalue": "[WinError 183] 파일이 이미 있으므로 만들 수 없습니다: 'C:\\\\Users\\\\smhrd\\\\Desktop\\\\포켓몬도감'",
     "output_type": "error",
     "traceback": [
      "\u001b[1;31m---------------------------------------------------------------------------\u001b[0m",
      "\u001b[1;31mFileExistsError\u001b[0m                           Traceback (most recent call last)",
      "Cell \u001b[1;32mIn[3], line 2\u001b[0m\n\u001b[0;32m      1\u001b[0m \u001b[38;5;66;03m# 폴더 생성하기 \u001b[39;00m\n\u001b[1;32m----> 2\u001b[0m os\u001b[38;5;241m.\u001b[39mmkdir(\u001b[38;5;124m\"\u001b[39m\u001b[38;5;124mC:\u001b[39m\u001b[38;5;130;01m\\\\\u001b[39;00m\u001b[38;5;124mUsers\u001b[39m\u001b[38;5;130;01m\\\\\u001b[39;00m\u001b[38;5;124msmhrd\u001b[39m\u001b[38;5;130;01m\\\\\u001b[39;00m\u001b[38;5;124mDesktop\u001b[39m\u001b[38;5;130;01m\\\\\u001b[39;00m\u001b[38;5;124m포켓몬도감\u001b[39m\u001b[38;5;124m\"\u001b[39m)\n",
      "\u001b[1;31mFileExistsError\u001b[0m: [WinError 183] 파일이 이미 있으므로 만들 수 없습니다: 'C:\\\\Users\\\\smhrd\\\\Desktop\\\\포켓몬도감'"
     ]
    }
   ],
   "source": [
    "# 폴더 생성하기 \n",
    "os.mkdir(\"C:\\\\Users\\\\smhrd\\\\Desktop\\\\포켓몬도감\")\n",
    "# 이미 존재하는 폴더 이름일 경우에는 오류가 발생 \n",
    "# 조건을 주어 오류를 발생하지 않도록 실행"
   ]
  },
  {
   "cell_type": "code",
   "execution_count": 4,
   "metadata": {},
   "outputs": [
    {
     "name": "stdout",
     "output_type": "stream",
     "text": [
      "이미 존재하는 폴더입니다.\n"
     ]
    }
   ],
   "source": [
    "# 만약에 폴더명이 존재하지 않는다면 생성해주고 \n",
    "if not os.path.isdir(\"C:\\\\Users\\\\smhrd\\\\Desktop\\\\포켓몬도감\"):\n",
    "    os.mkdir(\"C:\\\\Users\\\\smhrd\\\\Desktop\\\\포켓몬도감\")\n",
    "    # 폴더를 생성하는 코드를 작성 \n",
    "# 그렇지 않으면(폴더명이 존재한다면) 이미 존재하는 폴더입니다 라고 출력 \n",
    "else : \n",
    "    print(\"이미 존재하는 폴더입니다.\")\n"
   ]
  },
  {
   "cell_type": "code",
   "execution_count": 5,
   "metadata": {},
   "outputs": [],
   "source": [
    "# 포켓몬 페이지 불러오기 \n",
    "driver = wb.Chrome()\n",
    "driver.get(\"https://www.pokemonkorea.co.kr/pokedex#pokedex_1\")"
   ]
  },
  {
   "cell_type": "code",
   "execution_count": 6,
   "metadata": {},
   "outputs": [
    {
     "data": {
      "text/plain": [
       "[<selenium.webdriver.remote.webelement.WebElement (session=\"0127a6ebab7faeb1d59f403fb7ff39f5\", element=\"f.350CE2670C300DE52D37710632267D4C.d.55D3509B3BCFC94753F93A3AE92A985E.e.9\")>,\n",
       " <selenium.webdriver.remote.webelement.WebElement (session=\"0127a6ebab7faeb1d59f403fb7ff39f5\", element=\"f.350CE2670C300DE52D37710632267D4C.d.55D3509B3BCFC94753F93A3AE92A985E.e.10\")>,\n",
       " <selenium.webdriver.remote.webelement.WebElement (session=\"0127a6ebab7faeb1d59f403fb7ff39f5\", element=\"f.350CE2670C300DE52D37710632267D4C.d.55D3509B3BCFC94753F93A3AE92A985E.e.43\")>,\n",
       " <selenium.webdriver.remote.webelement.WebElement (session=\"0127a6ebab7faeb1d59f403fb7ff39f5\", element=\"f.350CE2670C300DE52D37710632267D4C.d.55D3509B3BCFC94753F93A3AE92A985E.e.44\")>,\n",
       " <selenium.webdriver.remote.webelement.WebElement (session=\"0127a6ebab7faeb1d59f403fb7ff39f5\", element=\"f.350CE2670C300DE52D37710632267D4C.d.55D3509B3BCFC94753F93A3AE92A985E.e.45\")>,\n",
       " <selenium.webdriver.remote.webelement.WebElement (session=\"0127a6ebab7faeb1d59f403fb7ff39f5\", element=\"f.350CE2670C300DE52D37710632267D4C.d.55D3509B3BCFC94753F93A3AE92A985E.e.46\")>,\n",
       " <selenium.webdriver.remote.webelement.WebElement (session=\"0127a6ebab7faeb1d59f403fb7ff39f5\", element=\"f.350CE2670C300DE52D37710632267D4C.d.55D3509B3BCFC94753F93A3AE92A985E.e.47\")>,\n",
       " <selenium.webdriver.remote.webelement.WebElement (session=\"0127a6ebab7faeb1d59f403fb7ff39f5\", element=\"f.350CE2670C300DE52D37710632267D4C.d.55D3509B3BCFC94753F93A3AE92A985E.e.48\")>,\n",
       " <selenium.webdriver.remote.webelement.WebElement (session=\"0127a6ebab7faeb1d59f403fb7ff39f5\", element=\"f.350CE2670C300DE52D37710632267D4C.d.55D3509B3BCFC94753F93A3AE92A985E.e.49\")>,\n",
       " <selenium.webdriver.remote.webelement.WebElement (session=\"0127a6ebab7faeb1d59f403fb7ff39f5\", element=\"f.350CE2670C300DE52D37710632267D4C.d.55D3509B3BCFC94753F93A3AE92A985E.e.50\")>,\n",
       " <selenium.webdriver.remote.webelement.WebElement (session=\"0127a6ebab7faeb1d59f403fb7ff39f5\", element=\"f.350CE2670C300DE52D37710632267D4C.d.55D3509B3BCFC94753F93A3AE92A985E.e.51\")>,\n",
       " <selenium.webdriver.remote.webelement.WebElement (session=\"0127a6ebab7faeb1d59f403fb7ff39f5\", element=\"f.350CE2670C300DE52D37710632267D4C.d.55D3509B3BCFC94753F93A3AE92A985E.e.52\")>,\n",
       " <selenium.webdriver.remote.webelement.WebElement (session=\"0127a6ebab7faeb1d59f403fb7ff39f5\", element=\"f.350CE2670C300DE52D37710632267D4C.d.55D3509B3BCFC94753F93A3AE92A985E.e.53\")>,\n",
       " <selenium.webdriver.remote.webelement.WebElement (session=\"0127a6ebab7faeb1d59f403fb7ff39f5\", element=\"f.350CE2670C300DE52D37710632267D4C.d.55D3509B3BCFC94753F93A3AE92A985E.e.54\")>,\n",
       " <selenium.webdriver.remote.webelement.WebElement (session=\"0127a6ebab7faeb1d59f403fb7ff39f5\", element=\"f.350CE2670C300DE52D37710632267D4C.d.55D3509B3BCFC94753F93A3AE92A985E.e.55\")>,\n",
       " <selenium.webdriver.remote.webelement.WebElement (session=\"0127a6ebab7faeb1d59f403fb7ff39f5\", element=\"f.350CE2670C300DE52D37710632267D4C.d.55D3509B3BCFC94753F93A3AE92A985E.e.56\")>,\n",
       " <selenium.webdriver.remote.webelement.WebElement (session=\"0127a6ebab7faeb1d59f403fb7ff39f5\", element=\"f.350CE2670C300DE52D37710632267D4C.d.55D3509B3BCFC94753F93A3AE92A985E.e.57\")>,\n",
       " <selenium.webdriver.remote.webelement.WebElement (session=\"0127a6ebab7faeb1d59f403fb7ff39f5\", element=\"f.350CE2670C300DE52D37710632267D4C.d.55D3509B3BCFC94753F93A3AE92A985E.e.58\")>]"
      ]
     },
     "execution_count": 6,
     "metadata": {},
     "output_type": "execute_result"
    }
   ],
   "source": [
    "# 스스로 \n",
    "# 이미지 데이터 수집\n",
    "# 모든 이미지 데이터 수집 = > img 변수에 담기 \n",
    "img = driver.find_elements(By.CLASS_NAME,'img-fluid')\n",
    "img"
   ]
  },
  {
   "cell_type": "code",
   "execution_count": null,
   "metadata": {},
   "outputs": [],
   "source": [
    "img[0].text\n",
    "# img 태그는 홀태그 \n",
    "# 짝태그: a 태그와 같이 여는 태그와 닫는 태그의 짝이 맞는 태그 <-> 홀태그 \n",
    "# .text 속성은 여는 태그와 닫는 태그 사이에 있는 콘텐츠 추출 "
   ]
  },
  {
   "cell_type": "code",
   "execution_count": 7,
   "metadata": {},
   "outputs": [
    {
     "data": {
      "text/plain": [
       "'https://data1.pokemonkorea.co.kr/newdata/pokedex/mid/000101.png'"
      ]
     },
     "execution_count": 7,
     "metadata": {},
     "output_type": "execute_result"
    }
   ],
   "source": [
    "# img 태그에서 콘텐츠가 아닌 속성을 추출하는 방법 \n",
    "# 요소.get_attribute('속성명') \n",
    "img[0].get_attribute('src')\n",
    "# 출력된 정보 : 이미지의 인터넷상 주소(경로)"
   ]
  },
  {
   "cell_type": "code",
   "execution_count": 8,
   "metadata": {},
   "outputs": [
    {
     "data": {
      "text/plain": [
       "('C:\\\\Users\\\\smhrd\\\\Desktop\\\\포켓몬도감\\\\포켓몬.jpg',\n",
       " <http.client.HTTPMessage at 0x1a01612d2d0>)"
      ]
     },
     "execution_count": 8,
     "metadata": {},
     "output_type": "execute_result"
    }
   ],
   "source": [
    "# 이미지 파일의 경로(src주소)를 활용하여 이미지 파일로 저장\n",
    "# urlretrieve(이미지 경로, '저장할 위치\\\\파일명.확장자')\n",
    "urlretrieve(img[0].get_attribute('src'), 'C:\\\\Users\\\\smhrd\\\\Desktop\\\\포켓몬도감\\\\포켓몬.jpg')"
   ]
  },
  {
   "cell_type": "code",
   "execution_count": null,
   "metadata": {},
   "outputs": [],
   "source": [
    "# 반복문을 사용해서 여러마리의 포켓몬 저장 \n",
    "for i in range(len(img)): \n",
    "    urlretrieve(img[i].get_attribute('src'), 'C:\\\\Users\\\\smhrd\\\\Desktop\\\\포켓몬도감\\\\포켓몬.jpg')\n",
    "# 파일명이 같으면 덮어쓰기가 된다 ! "
   ]
  },
  {
   "cell_type": "code",
   "execution_count": 9,
   "metadata": {},
   "outputs": [],
   "source": [
    "# 반복문을 사용해서 여러마리의 포켓몬 저장 \n",
    "for i in range(len(img)): \n",
    "    urlretrieve(img[i].get_attribute('src'), f'C:\\\\Users\\\\smhrd\\\\Desktop\\\\포켓몬도감\\\\포켓몬({i+1}).jpg')"
   ]
  },
  {
   "cell_type": "code",
   "execution_count": null,
   "metadata": {},
   "outputs": [],
   "source": [
    "len(img)"
   ]
  },
  {
   "cell_type": "markdown",
   "metadata": {},
   "source": [
    "### 화면 스크롤을 통해 더 많은 포켓몬 이미지 수집"
   ]
  },
  {
   "cell_type": "code",
   "execution_count": 15,
   "metadata": {},
   "outputs": [],
   "source": [
    "# 화면 스크롤 하는 방법!! => 키보드 END키 활용 \n",
    "# 페이지 전체를 담당하는 body 태그에게 END키 보내주기 ! \n",
    "for i in range(20):\n",
    "    body = driver.find_element(By.CSS_SELECTOR,'body')\n",
    "    body.send_keys(Keys.END)\n",
    "    time.sleep(1)"
   ]
  },
  {
   "cell_type": "markdown",
   "metadata": {},
   "source": [
    "### 코드 합치기"
   ]
  },
  {
   "cell_type": "code",
   "execution_count": 19,
   "metadata": {},
   "outputs": [
    {
     "name": "stdout",
     "output_type": "stream",
     "text": [
      "이미 존재하는 폴더입니다.\n"
     ]
    }
   ],
   "source": [
    "# 라이브러리 불러오기 \n",
    "from selenium import webdriver as wb \n",
    "from selenium.webdriver.common.keys import Keys\n",
    "from selenium.webdriver.common.by import By\n",
    "import pandas as pd\n",
    "import time\n",
    "from tqdm import tqdm\n",
    "\n",
    "from urllib.request import urlretrieve\n",
    "import os\n",
    "\n",
    "# 만약에 폴더명이 존재하지 않는다면 생성해주고 \n",
    "if not os.path.isdir(\"C:\\\\Users\\\\smhrd\\\\Desktop\\\\포켓몬도감\"):\n",
    "    os.mkdir(\"C:\\\\Users\\\\smhrd\\\\Desktop\\\\포켓몬도감\")\n",
    "    # 폴더를 생성하는 코드를 작성 \n",
    "# 그렇지 않으면(폴더명이 존재한다면) 이미 존재하는 폴더입니다 라고 출력 \n",
    "else : \n",
    "    print(\"이미 존재하는 폴더입니다.\")\n",
    "    \n",
    "# 포켓몬 페이지 불러오기\n",
    "driver = wb.Chrome()\n",
    "driver.get('https://www.pokemonkorea.co.kr/pokedex#pokedex_1')\n",
    "\n",
    "for i in range(20):\n",
    "    body = driver.find_element(By.CSS_SELECTOR,'body')\n",
    "    body.send_keys(Keys.END)\n",
    "    time.sleep(1)\n",
    "    \n",
    "img = driver.find_elements(By.CLASS_NAME,'img-fluid')\n",
    "for i in range(len(img)):\n",
    "    urlretrieve(img[i].get_attribute('src'), \n",
    "            f'C:\\\\Users\\\\smhrd\\\\Desktop\\\\포켓몬도감\\\\포켓몬{i+1}.jpg' )"
   ]
  },
  {
   "cell_type": "code",
   "execution_count": null,
   "metadata": {},
   "outputs": [],
   "source": [
    "# 스크롤 높이 가져옴\n",
    "last_height = driver.execute_script(\"return document.body.scrollHeight\")\n",
    "sleep_time = 1\n",
    "while True:\n",
    "    # 끝까지 스크롤 내리기\n",
    "    driver.execute_script(\"window.scrollTo(0, document.body.scrollHeight);\")\n",
    "\n",
    "    # 대기\n",
    "    time.sleep(sleep_time)\n",
    "\n",
    "    # 스크롤 내린 후 스크롤 높이 다시 가져옴\n",
    "    new_height = driver.execute_script(\"return document.body.scrollHeight\")\n",
    "    if new_height == last_height:\n",
    "        break\n",
    "    last_height = new_height"
   ]
  }
 ],
 "metadata": {
  "kernelspec": {
   "display_name": "base",
   "language": "python",
   "name": "python3"
  },
  "language_info": {
   "codemirror_mode": {
    "name": "ipython",
    "version": 3
   },
   "file_extension": ".py",
   "mimetype": "text/x-python",
   "name": "python",
   "nbconvert_exporter": "python",
   "pygments_lexer": "ipython3",
   "version": "3.11.5"
  }
 },
 "nbformat": 4,
 "nbformat_minor": 2
}
