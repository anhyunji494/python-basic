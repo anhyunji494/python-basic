{
 "cells": [
  {
   "cell_type": "code",
   "execution_count": 7,
   "metadata": {},
   "outputs": [
    {
     "name": "stdout",
     "output_type": "stream",
     "text": [
      "Requirement already satisfied: selenium in c:\\users\\smhrd\\anaconda3\\lib\\site-packages (4.18.1)\n",
      "Requirement already satisfied: urllib3[socks]<3,>=1.26 in c:\\users\\smhrd\\anaconda3\\lib\\site-packages (from selenium) (1.26.16)\n",
      "Requirement already satisfied: trio~=0.17 in c:\\users\\smhrd\\anaconda3\\lib\\site-packages (from selenium) (0.24.0)\n",
      "Requirement already satisfied: trio-websocket~=0.9 in c:\\users\\smhrd\\anaconda3\\lib\\site-packages (from selenium) (0.11.1)\n",
      "Requirement already satisfied: certifi>=2021.10.8 in c:\\users\\smhrd\\anaconda3\\lib\\site-packages (from selenium) (2023.11.17)\n",
      "Requirement already satisfied: typing_extensions>=4.9.0 in c:\\users\\smhrd\\anaconda3\\lib\\site-packages (from selenium) (4.9.0)\n",
      "Requirement already satisfied: attrs>=20.1.0 in c:\\users\\smhrd\\anaconda3\\lib\\site-packages (from trio~=0.17->selenium) (22.1.0)\n",
      "Requirement already satisfied: sortedcontainers in c:\\users\\smhrd\\anaconda3\\lib\\site-packages (from trio~=0.17->selenium) (2.4.0)\n",
      "Requirement already satisfied: idna in c:\\users\\smhrd\\anaconda3\\lib\\site-packages (from trio~=0.17->selenium) (3.4)\n",
      "Requirement already satisfied: outcome in c:\\users\\smhrd\\anaconda3\\lib\\site-packages (from trio~=0.17->selenium) (1.3.0.post0)\n",
      "Requirement already satisfied: sniffio>=1.3.0 in c:\\users\\smhrd\\anaconda3\\lib\\site-packages (from trio~=0.17->selenium) (1.3.0)\n",
      "Requirement already satisfied: cffi>=1.14 in c:\\users\\smhrd\\anaconda3\\lib\\site-packages (from trio~=0.17->selenium) (1.15.1)\n",
      "Requirement already satisfied: wsproto>=0.14 in c:\\users\\smhrd\\anaconda3\\lib\\site-packages (from trio-websocket~=0.9->selenium) (1.2.0)\n",
      "Requirement already satisfied: PySocks!=1.5.7,<2.0,>=1.5.6 in c:\\users\\smhrd\\anaconda3\\lib\\site-packages (from urllib3[socks]<3,>=1.26->selenium) (1.7.1)\n",
      "Requirement already satisfied: pycparser in c:\\users\\smhrd\\anaconda3\\lib\\site-packages (from cffi>=1.14->trio~=0.17->selenium) (2.21)\n",
      "Requirement already satisfied: h11<1,>=0.9.0 in c:\\users\\smhrd\\anaconda3\\lib\\site-packages (from wsproto>=0.14->trio-websocket~=0.9->selenium) (0.14.0)\n"
     ]
    }
   ],
   "source": [
    "# 라이브러리 불러오기  \n",
    "!pip install selenium\n",
    "from selenium import webdriver as wb # 통제, 제어 \n",
    "from selenium.webdriver.common.keys import Keys # 입력, 컴퓨터용 키보드 \n",
    "from selenium.webdriver.common.by import By \n",
    "import pandas as pd"
   ]
  },
  {
   "cell_type": "code",
   "execution_count": 26,
   "metadata": {},
   "outputs": [],
   "source": [
    "# 크롬 브라우저 실행\n",
    "driver = wb.Chrome()"
   ]
  },
  {
   "cell_type": "code",
   "execution_count": 27,
   "metadata": {},
   "outputs": [],
   "source": [
    "# 페이지 이동 (한솥도시락 페이지)\n",
    "driver.get(\"https://www.hsd.co.kr/menu/menu_list\")"
   ]
  },
  {
   "cell_type": "code",
   "execution_count": 13,
   "metadata": {},
   "outputs": [],
   "source": [
    "# 한솥 도시락 페이지의 메뉴명 수집하기\n",
    "menu = driver.find_elements(By.CLASS_NAME,'h.fz_03')"
   ]
  },
  {
   "cell_type": "code",
   "execution_count": 15,
   "metadata": {},
   "outputs": [
    {
     "data": {
      "text/plain": [
       "'사골 조랭이떡 만둣국'"
      ]
     },
     "execution_count": 15,
     "metadata": {},
     "output_type": "execute_result"
    }
   ],
   "source": [
    "# 첫번째 메뉴의 순수한 컨텐츠만 추출 \n",
    "menu[0].text"
   ]
  },
  {
   "cell_type": "code",
   "execution_count": null,
   "metadata": {},
   "outputs": [],
   "source": [
    "# 전체 메뉴명 확인 \n",
    "for i in menu : \n",
    "    print(i.text)"
   ]
  },
  {
   "cell_type": "code",
   "execution_count": 20,
   "metadata": {},
   "outputs": [],
   "source": [
    "# 가격 데이터 수집하기 \n",
    "price = driver.find_elements(By.CLASS_NAME,'item-price')"
   ]
  },
  {
   "cell_type": "code",
   "execution_count": 21,
   "metadata": {},
   "outputs": [
    {
     "data": {
      "text/plain": [
       "'5,900원'"
      ]
     },
     "execution_count": 21,
     "metadata": {},
     "output_type": "execute_result"
    }
   ],
   "source": [
    "price[0].text"
   ]
  },
  {
   "cell_type": "code",
   "execution_count": null,
   "metadata": {},
   "outputs": [],
   "source": [
    "for i in price : \n",
    "    print(i.text)"
   ]
  },
  {
   "cell_type": "code",
   "execution_count": 24,
   "metadata": {},
   "outputs": [
    {
     "data": {
      "text/plain": [
       "61"
      ]
     },
     "metadata": {},
     "output_type": "display_data"
    },
    {
     "data": {
      "text/plain": [
       "61"
      ]
     },
     "metadata": {},
     "output_type": "display_data"
    }
   ],
   "source": [
    "display(len(menu))\n",
    "display(len(price))\n"
   ]
  },
  {
   "cell_type": "markdown",
   "metadata": {},
   "source": [
    "* 현재 브라우저를 실행했을 때 브라우저의 크기만큼, 현재 불러와져있는 데이터들만 수집한다 (더보기 실행하지 않으면 제한됨)\n",
    "=> 전체 데이터를 수집하고 싶다면? 전체 데이터를 로딩 후에 데이터 수집(더보기 버튼 클릭)"
   ]
  },
  {
   "cell_type": "code",
   "execution_count": 25,
   "metadata": {},
   "outputs": [],
   "source": [
    "# 더보기 버튼 클릭하기 \n",
    "# 드라이버에게 더보기 버튼의 위치를 알려줘야 한다 \n",
    "# 더보기 버튼 위치 찾아오기 \n",
    "btn_more = driver.find_element(By.CLASS_NAME,'c_05')\n",
    "btn_more.click()"
   ]
  },
  {
   "cell_type": "code",
   "execution_count": null,
   "metadata": {},
   "outputs": [],
   "source": [
    "# 반복문을 사용하여 여러번 더보기 버튼 눌러주기 \n",
    "# 반복을 진행할 때 반드시 더보기 버튼의 위치를 찾아오는 코드까지 반복해주어야 한다 \n",
    "for i in range(30): \n",
    "    btn_more = driver.find_element(By.CLASS_NAME,'c_05')\n",
    "    btn_more.click()"
   ]
  },
  {
   "cell_type": "markdown",
   "metadata": {},
   "source": [
    "### 예외처리 \n",
    "- try ... except 문 \n",
    "- try : 에러가 나기 전까지 실행할 문장 \n",
    "- except : 에러가 난 경우 실행할 문장 "
   ]
  },
  {
   "cell_type": "code",
   "execution_count": 30,
   "metadata": {},
   "outputs": [
    {
     "name": "stdout",
     "output_type": "stream",
     "text": [
      "클릭을 완료하였습니다!\n"
     ]
    }
   ],
   "source": [
    "# try , except 작성하는 이유 \n",
    "# 코드 실행시 에러가 나면 셀 전체가 실행되지 않는 상태가 됨 \n",
    "# 에러가 나더라도 또다른 실행을 해주고 계속해서 코드를 실행하기 위해 예외처리 작성 \n",
    "try : \n",
    "    for i in range(30): \n",
    "        btn_more = driver.find_element(By.CLASS_NAME,'c_05')\n",
    "        btn_more.click()\n",
    "except : \n",
    "    print('클릭을 완료하였습니다!')"
   ]
  },
  {
   "cell_type": "markdown",
   "metadata": {},
   "source": [
    "### 코드 중간중간에 쉬는 시간을 주는 라이브러리 \n",
    "- time"
   ]
  },
  {
   "cell_type": "code",
   "execution_count": 31,
   "metadata": {},
   "outputs": [],
   "source": [
    "import time\n",
    "# 주로 페이지가 새로고침 된 다음에 사용한다 \n",
    "# 페이지가 로딩되는 시간을 부여 "
   ]
  },
  {
   "cell_type": "code",
   "execution_count": 32,
   "metadata": {},
   "outputs": [
    {
     "name": "stdout",
     "output_type": "stream",
     "text": [
      "클릭을 완료하였습니다!\n"
     ]
    }
   ],
   "source": [
    "try : \n",
    "    for i in range(30): \n",
    "        btn_more = driver.find_element(By.CLASS_NAME,'c_05')\n",
    "        btn_more.click()\n",
    "        time.sleep(1) # 1초 딜레이 => 브라우저 과부화를 막기 위해서 \n",
    "except : \n",
    "    print('클릭을 완료하였습니다!')"
   ]
  },
  {
   "cell_type": "markdown",
   "metadata": {},
   "source": [
    "### 코드 하나의 셀에 합쳐주기"
   ]
  },
  {
   "cell_type": "code",
   "execution_count": 41,
   "metadata": {},
   "outputs": [
    {
     "name": "stdout",
     "output_type": "stream",
     "text": [
      "클릭을 완료하였습니다!\n"
     ]
    }
   ],
   "source": [
    "from selenium import webdriver as wb # 통제, 제어 \n",
    "from selenium.webdriver.common.keys import Keys # 입력, 컴퓨터용 키보드 \n",
    "from selenium.webdriver.common.by import By \n",
    "import pandas as pd\n",
    "driver = wb.Chrome()\n",
    "driver.get(\"https://www.hsd.co.kr/menu/menu_list\")\n",
    "# 더보기 버튼 누르기 \n",
    "try : \n",
    "    for i in range(30): \n",
    "        btn_more = driver.find_element(By.CLASS_NAME,'c_05')\n",
    "        btn_more.click()\n",
    "        time.sleep(1) # 1초 딜레이 => 브라우저 과부화를 막기 위해서 \n",
    "except : \n",
    "    print('클릭을 완료하였습니다!')\n",
    "menu = driver.find_elements(By.CLASS_NAME,'h.fz_03')\n",
    "price = driver.find_elements(By.CLASS_NAME,'item-price')\n",
    "\n",
    "# 데이터 활용\n",
    "# 순수한 메뉴, 가격을 list에 담고 dictionary 만들기 \n",
    "# DataFrame -> csv 내보내기 \n",
    "menu_list = []\n",
    "price_list = []\n",
    "list_number = []\n",
    "#반복문을 통해 데이터 누적\n",
    "for i in range(len(menu)):\n",
    "    menu_list.append(menu[i].text)\n",
    "    price_list.append(price[i].text)\n",
    "    list_number.append(i+1)\n",
    "dic = {'메뉴명':menu_list,\n",
    "       '가격': price_list,\n",
    "       '번호': list_number}\n",
    "hansot = pd.DataFrame(dic)\n",
    "hansot.set_index('번호', inplace=True)\n",
    "hansot.to_csv('한솥도시락 메뉴.csv', encoding='euc-kr')"
   ]
  },
  {
   "cell_type": "code",
   "execution_count": 40,
   "metadata": {},
   "outputs": [
    {
     "data": {
      "text/html": [
       "<div>\n",
       "<style scoped>\n",
       "    .dataframe tbody tr th:only-of-type {\n",
       "        vertical-align: middle;\n",
       "    }\n",
       "\n",
       "    .dataframe tbody tr th {\n",
       "        vertical-align: top;\n",
       "    }\n",
       "\n",
       "    .dataframe thead th {\n",
       "        text-align: right;\n",
       "    }\n",
       "</style>\n",
       "<table border=\"1\" class=\"dataframe\">\n",
       "  <thead>\n",
       "    <tr style=\"text-align: right;\">\n",
       "      <th></th>\n",
       "      <th>메뉴명</th>\n",
       "      <th>가격</th>\n",
       "    </tr>\n",
       "    <tr>\n",
       "      <th>번호</th>\n",
       "      <th></th>\n",
       "      <th></th>\n",
       "    </tr>\n",
       "  </thead>\n",
       "  <tbody>\n",
       "    <tr>\n",
       "      <th>1</th>\n",
       "      <td>사골 조랭이떡 만둣국</td>\n",
       "      <td>5,900원</td>\n",
       "    </tr>\n",
       "    <tr>\n",
       "      <th>2</th>\n",
       "      <td>한우 함박스테이크 &amp; 반달 돈까스</td>\n",
       "      <td>8,900원</td>\n",
       "    </tr>\n",
       "    <tr>\n",
       "      <th>3</th>\n",
       "      <td>한우함박스테이크&amp;토네이도소세지</td>\n",
       "      <td>8,900원</td>\n",
       "    </tr>\n",
       "    <tr>\n",
       "      <th>4</th>\n",
       "      <td>해바라기</td>\n",
       "      <td>10,000원</td>\n",
       "    </tr>\n",
       "    <tr>\n",
       "      <th>5</th>\n",
       "      <td>매화</td>\n",
       "      <td>10,500원</td>\n",
       "    </tr>\n",
       "    <tr>\n",
       "      <th>...</th>\n",
       "      <td>...</td>\n",
       "      <td>...</td>\n",
       "    </tr>\n",
       "    <tr>\n",
       "      <th>90</th>\n",
       "      <td>김치</td>\n",
       "      <td>400원</td>\n",
       "    </tr>\n",
       "    <tr>\n",
       "      <th>91</th>\n",
       "      <td>무말랭이 무침</td>\n",
       "      <td>500원</td>\n",
       "    </tr>\n",
       "    <tr>\n",
       "      <th>92</th>\n",
       "      <td>한솥밥</td>\n",
       "      <td>1,000원</td>\n",
       "    </tr>\n",
       "    <tr>\n",
       "      <th>93</th>\n",
       "      <td>현미밥</td>\n",
       "      <td>1,700원</td>\n",
       "    </tr>\n",
       "    <tr>\n",
       "      <th>94</th>\n",
       "      <td>리얼꿀 미니호떡</td>\n",
       "      <td>2,200원</td>\n",
       "    </tr>\n",
       "  </tbody>\n",
       "</table>\n",
       "<p>94 rows × 2 columns</p>\n",
       "</div>"
      ],
      "text/plain": [
       "                   메뉴명       가격\n",
       "번호                             \n",
       "1          사골 조랭이떡 만둣국   5,900원\n",
       "2   한우 함박스테이크 & 반달 돈까스   8,900원\n",
       "3     한우함박스테이크&토네이도소세지   8,900원\n",
       "4                 해바라기  10,000원\n",
       "5                   매화  10,500원\n",
       "..                 ...      ...\n",
       "90                  김치     400원\n",
       "91             무말랭이 무침     500원\n",
       "92                 한솥밥   1,000원\n",
       "93                 현미밥   1,700원\n",
       "94            리얼꿀 미니호떡   2,200원\n",
       "\n",
       "[94 rows x 2 columns]"
      ]
     },
     "execution_count": 40,
     "metadata": {},
     "output_type": "execute_result"
    }
   ],
   "source": [
    "hansot"
   ]
  }
 ],
 "metadata": {
  "kernelspec": {
   "display_name": "base",
   "language": "python",
   "name": "python3"
  },
  "language_info": {
   "codemirror_mode": {
    "name": "ipython",
    "version": 3
   },
   "file_extension": ".py",
   "mimetype": "text/x-python",
   "name": "python",
   "nbconvert_exporter": "python",
   "pygments_lexer": "ipython3",
   "version": "3.11.5"
  }
 },
 "nbformat": 4,
 "nbformat_minor": 2
}
